{
 "cells": [
  {
   "cell_type": "code",
   "execution_count": 38,
   "id": "3917e5f2-8be8-4cdd-8285-e881839afe40",
   "metadata": {},
   "outputs": [],
   "source": [
    "from tensorflow.keras.layers import Conv2D, MaxPooling2D, Dense, Flatten , Dropout,Rescaling\n",
    "from tensorflow.keras.preprocessing import image"
   ]
  },
  {
   "cell_type": "code",
   "execution_count": 63,
   "id": "bf55100b-d119-43b9-ac16-02443367ff1d",
   "metadata": {},
   "outputs": [
    {
     "data": {
      "text/plain": [
       "['Sales', 'Customers', 'Products']"
      ]
     },
     "execution_count": 63,
     "metadata": {},
     "output_type": "execute_result"
    }
   ],
   "source": [
    "excelfile = pd.ExcelFile('sales_data.xlsx')\n",
    "excelfile.sheet_names"
   ]
  },
  {
   "cell_type": "code",
   "execution_count": 73,
   "id": "6e4d17c8-78e0-482b-a491-8313113fa85f",
   "metadata": {},
   "outputs": [],
   "source": [
    "data = pd.read_excel('sales_data.xlsx',sheet_name = 'Sales')\n",
    "data2 = pd.read_excel('sales_data.xlsx',sheet_name = 'Customers')\n",
    "data3= pd.read_excel('sales_data.xlsx',sheet_name = 'Products')"
   ]
  },
  {
   "cell_type": "code",
   "execution_count": 75,
   "id": "f10d2e65-d37f-4f17-b59a-1e5638f89e3f",
   "metadata": {},
   "outputs": [
    {
     "data": {
      "text/html": [
       "<div>\n",
       "<style scoped>\n",
       "    .dataframe tbody tr th:only-of-type {\n",
       "        vertical-align: middle;\n",
       "    }\n",
       "\n",
       "    .dataframe tbody tr th {\n",
       "        vertical-align: top;\n",
       "    }\n",
       "\n",
       "    .dataframe thead th {\n",
       "        text-align: right;\n",
       "    }\n",
       "</style>\n",
       "<table border=\"1\" class=\"dataframe\">\n",
       "  <thead>\n",
       "    <tr style=\"text-align: right;\">\n",
       "      <th></th>\n",
       "      <th>OrderID</th>\n",
       "      <th>CustomerID</th>\n",
       "      <th>Product</th>\n",
       "      <th>Quantity</th>\n",
       "      <th>Price</th>\n",
       "      <th>OrderDate</th>\n",
       "      <th>Region_x</th>\n",
       "      <th>TotalRevenue</th>\n",
       "      <th>CustomerName</th>\n",
       "      <th>Region_y</th>\n",
       "    </tr>\n",
       "  </thead>\n",
       "  <tbody>\n",
       "    <tr>\n",
       "      <th>0</th>\n",
       "      <td>1</td>\n",
       "      <td>413</td>\n",
       "      <td>Keyboard</td>\n",
       "      <td>5</td>\n",
       "      <td>1815.96</td>\n",
       "      <td>2023-01-01</td>\n",
       "      <td>South</td>\n",
       "      <td>9079.80</td>\n",
       "      <td>Customer_413</td>\n",
       "      <td>South</td>\n",
       "    </tr>\n",
       "    <tr>\n",
       "      <th>1</th>\n",
       "      <td>2</td>\n",
       "      <td>500</td>\n",
       "      <td>Smartphone</td>\n",
       "      <td>6</td>\n",
       "      <td>1497.86</td>\n",
       "      <td>2023-01-02</td>\n",
       "      <td>South</td>\n",
       "      <td>8987.16</td>\n",
       "      <td>Customer_500</td>\n",
       "      <td>North</td>\n",
       "    </tr>\n",
       "    <tr>\n",
       "      <th>2</th>\n",
       "      <td>3</td>\n",
       "      <td>925</td>\n",
       "      <td>Smartphone</td>\n",
       "      <td>1</td>\n",
       "      <td>465.75</td>\n",
       "      <td>2023-01-03</td>\n",
       "      <td>North</td>\n",
       "      <td>465.75</td>\n",
       "      <td>Customer_925</td>\n",
       "      <td>South</td>\n",
       "    </tr>\n",
       "    <tr>\n",
       "      <th>3</th>\n",
       "      <td>4</td>\n",
       "      <td>55</td>\n",
       "      <td>Monitor</td>\n",
       "      <td>3</td>\n",
       "      <td>1896.86</td>\n",
       "      <td>2023-01-04</td>\n",
       "      <td>East</td>\n",
       "      <td>5690.58</td>\n",
       "      <td>Customer_55</td>\n",
       "      <td>South</td>\n",
       "    </tr>\n",
       "    <tr>\n",
       "      <th>4</th>\n",
       "      <td>5</td>\n",
       "      <td>502</td>\n",
       "      <td>Smartphone</td>\n",
       "      <td>5</td>\n",
       "      <td>1725.11</td>\n",
       "      <td>2023-01-05</td>\n",
       "      <td>South</td>\n",
       "      <td>8625.55</td>\n",
       "      <td>Customer_502</td>\n",
       "      <td>West</td>\n",
       "    </tr>\n",
       "    <tr>\n",
       "      <th>...</th>\n",
       "      <td>...</td>\n",
       "      <td>...</td>\n",
       "      <td>...</td>\n",
       "      <td>...</td>\n",
       "      <td>...</td>\n",
       "      <td>...</td>\n",
       "      <td>...</td>\n",
       "      <td>...</td>\n",
       "      <td>...</td>\n",
       "      <td>...</td>\n",
       "    </tr>\n",
       "    <tr>\n",
       "      <th>9995</th>\n",
       "      <td>9996</td>\n",
       "      <td>268</td>\n",
       "      <td>Keyboard</td>\n",
       "      <td>2</td>\n",
       "      <td>675.83</td>\n",
       "      <td>2050-05-14</td>\n",
       "      <td>South</td>\n",
       "      <td>1351.66</td>\n",
       "      <td>Customer_268</td>\n",
       "      <td>West</td>\n",
       "    </tr>\n",
       "    <tr>\n",
       "      <th>9996</th>\n",
       "      <td>9997</td>\n",
       "      <td>562</td>\n",
       "      <td>Smartphone</td>\n",
       "      <td>1</td>\n",
       "      <td>1596.17</td>\n",
       "      <td>2050-05-15</td>\n",
       "      <td>West</td>\n",
       "      <td>1596.17</td>\n",
       "      <td>Customer_562</td>\n",
       "      <td>North</td>\n",
       "    </tr>\n",
       "    <tr>\n",
       "      <th>9997</th>\n",
       "      <td>9998</td>\n",
       "      <td>282</td>\n",
       "      <td>Monitor</td>\n",
       "      <td>9</td>\n",
       "      <td>130.39</td>\n",
       "      <td>2050-05-16</td>\n",
       "      <td>East</td>\n",
       "      <td>1173.51</td>\n",
       "      <td>Customer_282</td>\n",
       "      <td>West</td>\n",
       "    </tr>\n",
       "    <tr>\n",
       "      <th>9998</th>\n",
       "      <td>9999</td>\n",
       "      <td>435</td>\n",
       "      <td>Laptop</td>\n",
       "      <td>6</td>\n",
       "      <td>831.26</td>\n",
       "      <td>2050-05-17</td>\n",
       "      <td>West</td>\n",
       "      <td>4987.56</td>\n",
       "      <td>Customer_435</td>\n",
       "      <td>South</td>\n",
       "    </tr>\n",
       "    <tr>\n",
       "      <th>9999</th>\n",
       "      <td>10000</td>\n",
       "      <td>787</td>\n",
       "      <td>Laptop</td>\n",
       "      <td>8</td>\n",
       "      <td>1025.48</td>\n",
       "      <td>2050-05-18</td>\n",
       "      <td>North</td>\n",
       "      <td>8203.84</td>\n",
       "      <td>Customer_787</td>\n",
       "      <td>South</td>\n",
       "    </tr>\n",
       "  </tbody>\n",
       "</table>\n",
       "<p>10000 rows × 10 columns</p>\n",
       "</div>"
      ],
      "text/plain": [
       "      OrderID  CustomerID     Product  Quantity    Price  OrderDate Region_x  \\\n",
       "0           1         413    Keyboard         5  1815.96 2023-01-01    South   \n",
       "1           2         500  Smartphone         6  1497.86 2023-01-02    South   \n",
       "2           3         925  Smartphone         1   465.75 2023-01-03    North   \n",
       "3           4          55     Monitor         3  1896.86 2023-01-04     East   \n",
       "4           5         502  Smartphone         5  1725.11 2023-01-05    South   \n",
       "...       ...         ...         ...       ...      ...        ...      ...   \n",
       "9995     9996         268    Keyboard         2   675.83 2050-05-14    South   \n",
       "9996     9997         562  Smartphone         1  1596.17 2050-05-15     West   \n",
       "9997     9998         282     Monitor         9   130.39 2050-05-16     East   \n",
       "9998     9999         435      Laptop         6   831.26 2050-05-17     West   \n",
       "9999    10000         787      Laptop         8  1025.48 2050-05-18    North   \n",
       "\n",
       "      TotalRevenue  CustomerName Region_y  \n",
       "0          9079.80  Customer_413    South  \n",
       "1          8987.16  Customer_500    North  \n",
       "2           465.75  Customer_925    South  \n",
       "3          5690.58   Customer_55    South  \n",
       "4          8625.55  Customer_502     West  \n",
       "...            ...           ...      ...  \n",
       "9995       1351.66  Customer_268     West  \n",
       "9996       1596.17  Customer_562    North  \n",
       "9997       1173.51  Customer_282     West  \n",
       "9998       4987.56  Customer_435    South  \n",
       "9999       8203.84  Customer_787    South  \n",
       "\n",
       "[10000 rows x 10 columns]"
      ]
     },
     "execution_count": 75,
     "metadata": {},
     "output_type": "execute_result"
    }
   ],
   "source": [
    "full_data = pd.merge(data,data2,on = 'CustomerID', how = 'left')\n",
    "full_data"
   ]
  },
  {
   "cell_type": "code",
   "execution_count": null,
   "id": "a25430ed-c28e-403f-98c7-3a1260412059",
   "metadata": {},
   "outputs": [],
   "source": [
    "pd.pivot_table(full_data, index = 'Product', columns = 'Region_x', values = 'Quantity', aggfunc = )"
   ]
  },
  {
   "cell_type": "code",
   "execution_count": 67,
   "id": "f9bba567-3ce5-4881-9766-ea7c87bd3800",
   "metadata": {},
   "outputs": [],
   "source": [
    "data.to_excel('output.xlsx', index = False)"
   ]
  },
  {
   "cell_type": "code",
   "execution_count": 71,
   "id": "1ae7c06e-4494-4cd9-8c74-a65a803013ee",
   "metadata": {},
   "outputs": [
    {
     "data": {
      "text/plain": [
       "<seaborn.axisgrid.FacetGrid at 0x1ff8ea16b00>"
      ]
     },
     "execution_count": 71,
     "metadata": {},
     "output_type": "execute_result"
    },
    {
     "data": {
      "image/png": "[encoded data removed]",
      "text/plain": [
       "<Figure size 500x500 with 1 Axes>"
      ]
     },
     "metadata": {},
     "output_type": "display_data"
    }
   ],
   "source": [
    "sns.displot(x='Product', data = data)"
   ]
  },
  {
   "cell_type": "code",
   "execution_count": 72,
   "id": "3ad1bfc8-df54-40b8-bba1-61c2346c9559",
   "metadata": {},
   "outputs": [
    {
     "data": {
      "text/plain": [
       "<Axes: xlabel='Price'>"
      ]
     },
     "execution_count": 72,
     "metadata": {},
     "output_type": "execute_result"
    },
    {
     "data": {
      "image/png": "[encoded data removed]",
      "text/plain": [
       "<Figure size 640x480 with 1 Axes>"
      ]
     },
     "metadata": {},
     "output_type": "display_data"
    }
   ],
   "source": [
    "sns.boxplot(x = 'Price', data = data)"
   ]
  },
  {
   "cell_type": "code",
   "execution_count": null,
   "id": "bc544be2-446f-440a-aa5a-0f7721f118ad",
   "metadata": {},
   "outputs": [],
   "source": []
  }
 ],
 "metadata": {
  "kernelspec": {
   "display_name": "Python 3 (ipykernel)",
   "language": "python",
   "name": "python3"
  },
  "language_info": {
   "codemirror_mode": {
    "name": "ipython",
    "version": 3
   },
   "file_extension": ".py",
   "mimetype": "text/x-python",
   "name": "python",
   "nbconvert_exporter": "python",
   "pygments_lexer": "ipython3",
   "version": "3.10.11"
  }
 },
 "nbformat": 4,
 "nbformat_minor": 5
}
