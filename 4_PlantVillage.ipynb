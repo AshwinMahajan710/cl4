{
 "cells": [
  {
   "cell_type": "code",
   "execution_count": 5,
   "id": "8b9c5ca4-94c3-4e86-8eef-4a5f919c80fe",
   "metadata": {},
   "outputs": [],
   "source": [
    "import pandas as pd\n",
    "import numpy as np\n",
    "import seaborn as sns\n",
    "import matplotlib.pyplot as plt\n",
    "import seaborn as sns\n",
    "import tensorflow as tf"
   ]
  },
  {
   "cell_type": "code",
   "execution_count": 38,
   "id": "a2e0139a-640a-4b84-9db9-f8d28dc72633",
   "metadata": {},
   "outputs": [],
   "source": [
    "from tensorflow.keras import Sequential\n",
    "from tensorflow.keras.layers import Conv2D,MaxPooling2D,Rescaling,Dense,Dropout,Flatten\n",
    "from tensorflow.keras.preprocessing import image"
   ]
  },
  {
   "cell_type": "code",
   "execution_count": 2,
   "id": "c94af1a6-bfb8-4497-a55c-44ca26888385",
   "metadata": {},
   "outputs": [],
   "source": [
    "data_dir = 'PlantVillage'"
   ]
  },
  {
   "cell_type": "code",
   "execution_count": 16,
   "id": "b15dddd7-fa17-44bc-80fa-9518927e5745",
   "metadata": {},
   "outputs": [
    {
     "name": "stdout",
     "output_type": "stream",
     "text": [
      "Found 20641 files belonging to 15 classes.\n",
      "Using 16513 files for training.\n"
     ]
    }
   ],
   "source": [
    "train_gen = tf.keras.utils.image_dataset_from_directory(\n",
    "    data_dir,\n",
    "    seed = 123,\n",
    "    validation_split = 0.2,\n",
    "    subset = 'training',\n",
    "    image_size = (128,128),\n",
    "    batch_size = 32\n",
    ") "
   ]
  },
  {
   "cell_type": "code",
   "execution_count": 18,
   "id": "e45f7938-4628-4cee-b953-99833b0f4f25",
   "metadata": {},
   "outputs": [
    {
     "name": "stdout",
     "output_type": "stream",
     "text": [
      "Found 20641 files belonging to 15 classes.\n",
      "Using 4128 files for validation.\n"
     ]
    }
   ],
   "source": [
    "test_gen = tf.keras.utils.image_dataset_from_directory(\n",
    "    data_dir,\n",
    "    seed = 123,\n",
    "    validation_split = 0.2,\n",
    "    subset = 'validation',\n",
    "    batch_size = 32,\n",
    "    image_size = (128,128)\n",
    ")"
   ]
  },
  {
   "cell_type": "code",
   "execution_count": 26,
   "id": "40186a46-5711-49ff-bbd1-0d5c754835b9",
   "metadata": {},
   "outputs": [
    {
     "name": "stderr",
     "output_type": "stream",
     "text": [
      "C:\\Users\\ACER\\AppData\\Local\\Programs\\Python\\Python310\\lib\\site-packages\\keras\\src\\layers\\preprocessing\\tf_data_layer.py:19: UserWarning: Do not pass an `input_shape`/`input_dim` argument to a layer. When using Sequential models, prefer using an `Input(shape)` object as the first layer in the model instead.\n",
      "  super().__init__(**kwargs)\n"
     ]
    }
   ],
   "source": [
    "model = Sequential()\n",
    "# Rescaling very necessary else high chances of the less accuracy\n",
    "model.add(Rescaling(1/255.0, input_shape = (128,128,3)))\n",
    "model.add(Conv2D(32,kernel_size = (3,3),activation = 'relu'))\n",
    "model.add(MaxPooling2D(pool_size=(2,2)))\n",
    "model.add(Conv2D(64,kernel_size = (3,3),activation = 'relu'))\n",
    "model.add(MaxPooling2D(pool_size=(2,2)))\n",
    "model.add(Flatten())\n",
    "model.add(Dense(128,activation = 'relu'))\n",
    "model.add(Dropout(0.5))\n",
    "model.add(Dense(15, activation = 'softmax'))"
   ]
  },
  {
   "cell_type": "code",
   "execution_count": 27,
   "id": "a6dab7f2-4ee5-404a-9b7c-1ff85f50c345",
   "metadata": {},
   "outputs": [],
   "source": [
    "model.compile(optimizer = 'Adam', loss = 'sparse_categorical_crossentropy', metrics = ['accuracy'])"
   ]
  },
  {
   "cell_type": "code",
   "execution_count": 28,
   "id": "03b10b46-06fc-495f-9135-924b27a0ef34",
   "metadata": {},
   "outputs": [
    {
     "name": "stdout",
     "output_type": "stream",
     "text": [
      "Epoch 1/5\n",
      "\u001b[1m517/517\u001b[0m \u001b[32m━━━━━━━━━━━━━━━━━━━━\u001b[0m\u001b[37m\u001b[0m \u001b[1m201s\u001b[0m 385ms/step - accuracy: 0.3742 - loss: 1.9594 - val_accuracy: 0.7469 - val_loss: 0.7762\n",
      "Epoch 2/5\n",
      "\u001b[1m517/517\u001b[0m \u001b[32m━━━━━━━━━━━━━━━━━━━━\u001b[0m\u001b[37m\u001b[0m \u001b[1m197s\u001b[0m 381ms/step - accuracy: 0.6742 - loss: 0.9890 - val_accuracy: 0.7960 - val_loss: 0.6071\n",
      "Epoch 3/5\n",
      "\u001b[1m517/517\u001b[0m \u001b[32m━━━━━━━━━━━━━━━━━━━━\u001b[0m\u001b[37m\u001b[0m \u001b[1m195s\u001b[0m 376ms/step - accuracy: 0.7352 - loss: 0.8039 - val_accuracy: 0.8408 - val_loss: 0.4631\n",
      "Epoch 4/5\n",
      "\u001b[1m517/517\u001b[0m \u001b[32m━━━━━━━━━━━━━━━━━━━━\u001b[0m\u001b[37m\u001b[0m \u001b[1m198s\u001b[0m 384ms/step - accuracy: 0.8141 - loss: 0.5410 - val_accuracy: 0.8370 - val_loss: 0.4662\n",
      "Epoch 5/5\n",
      "\u001b[1m517/517\u001b[0m \u001b[32m━━━━━━━━━━━━━━━━━━━━\u001b[0m\u001b[37m\u001b[0m \u001b[1m252s\u001b[0m 487ms/step - accuracy: 0.8444 - loss: 0.4501 - val_accuracy: 0.8687 - val_loss: 0.4047\n"
     ]
    },
    {
     "data": {
      "text/plain": [
       "<keras.src.callbacks.history.History at 0x18a594ffd60>"
      ]
     },
     "execution_count": 28,
     "metadata": {},
     "output_type": "execute_result"
    }
   ],
   "source": [
    "model.fit(train_gen,epochs = 5,validation_data = test_gen)"
   ]
  },
  {
   "cell_type": "code",
   "execution_count": 36,
   "id": "b1777c7e-4028-4102-90cf-f00861c51a6c",
   "metadata": {},
   "outputs": [
    {
     "name": "stdout",
     "output_type": "stream",
     "text": [
      "\u001b[1m129/129\u001b[0m \u001b[32m━━━━━━━━━━━━━━━━━━━━\u001b[0m\u001b[37m\u001b[0m \u001b[1m19s\u001b[0m 144ms/step\n"
     ]
    }
   ],
   "source": [
    "y_preds = np.argmax(model.predict(test_gen),axis = 1)"
   ]
  },
  {
   "cell_type": "code",
   "execution_count": 31,
   "id": "a4e2cb75-9618-4869-bf43-2ebb093b818f",
   "metadata": {},
   "outputs": [
    {
     "data": {
      "text/plain": [
       "['Pepper__bell___Bacterial_spot',\n",
       " 'Pepper__bell___healthy',\n",
       " 'Potato___Early_blight',\n",
       " 'Potato___Late_blight',\n",
       " 'Potato___healthy',\n",
       " 'Tomato_Bacterial_spot',\n",
       " 'Tomato_Early_blight',\n",
       " 'Tomato_Late_blight',\n",
       " 'Tomato_Leaf_Mold',\n",
       " 'Tomato_Septoria_leaf_spot',\n",
       " 'Tomato_Spider_mites_Two_spotted_spider_mite',\n",
       " 'Tomato__Target_Spot',\n",
       " 'Tomato__Tomato_YellowLeaf__Curl_Virus',\n",
       " 'Tomato__Tomato_mosaic_virus',\n",
       " 'Tomato_healthy']"
      ]
     },
     "execution_count": 31,
     "metadata": {},
     "output_type": "execute_result"
    }
   ],
   "source": [
    "train_gen.class_names"
   ]
  },
  {
   "cell_type": "code",
   "execution_count": 33,
   "id": "e207efbb-7938-4f41-8fe1-1fec25fa075e",
   "metadata": {},
   "outputs": [],
   "source": [
    "def load_img(path):\n",
    "    image = image.load_img('path',target_size = (128,128))\n",
    "    image_arr = image.img_to_array(image)\n",
    "    image_arr = image_arr/255.0\n",
    "    image_arr = np.expand_dims(image_arr, axis = 1)\n",
    "    return image_arr"
   ]
  },
  {
   "cell_type": "code",
   "execution_count": null,
   "id": "b74d782c-593e-404c-b3a8-5d98990b3422",
   "metadata": {},
   "outputs": [],
   "source": []
  }
 ],
 "metadata": {
  "kernelspec": {
   "display_name": "Python 3 (ipykernel)",
   "language": "python",
   "name": "python3"
  },
  "language_info": {
   "codemirror_mode": {
    "name": "ipython",
    "version": 3
   },
   "file_extension": ".py",
   "mimetype": "text/x-python",
   "name": "python",
   "nbconvert_exporter": "python",
   "pygments_lexer": "ipython3",
   "version": "3.10.11"
  }
 },
 "nbformat": 4,
 "nbformat_minor": 5
}
