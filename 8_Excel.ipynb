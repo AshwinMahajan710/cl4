{
 "cells": [
  {
   "cell_type": "code",
   "execution_count": 4,
   "id": "4f2e8d51-ccf3-4ec5-8b77-3963736fcb0e",
   "metadata": {},
   "outputs": [],
   "source": [
    "import pandas as pd\n",
    "import numpy as np\n",
    "import matplotlib.pyplot as plt\n",
    "import seaborn as sns\n"
   ]
  },
  {
   "cell_type": "code",
   "execution_count": 5,
   "id": "3831fb1a-4285-4e90-bcd7-011f217730aa",
   "metadata": {},
   "outputs": [],
   "source": [
    "# Load the data"
   ]
  },
  {
   "cell_type": "code",
   "execution_count": 6,
   "id": "58bf7d6c-e224-4aa9-9f88-36b9b037c167",
   "metadata": {},
   "outputs": [
    {
     "data": {
      "text/plain": [
       "['Sales', 'Customers', 'Products']"
      ]
     },
     "execution_count": 6,
     "metadata": {},
     "output_type": "execute_result"
    }
   ],
   "source": [
    "excel_file = pd.ExcelFile('sales_data.xlsx')\n",
    "sheet_names = excel_file.sheet_names\n",
    "sheet_names"
   ]
  },
  {
   "cell_type": "code",
   "execution_count": 7,
   "id": "296edf6b-fb1d-4772-9dee-55ad69f29e18",
   "metadata": {},
   "outputs": [],
   "source": [
    "excel_file = \"sales_data.xlsx\"\n",
    "sales_df = pd.read_excel(excel_file, sheet_name=\"Sales\")\n",
    "customers_df = pd.read_excel(excel_file, sheet_name=\"Customers\")\n",
    "products_df = pd.read_excel(excel_file, sheet_name=\"Products\")"
   ]
  },
  {
   "cell_type": "code",
   "execution_count": 8,
   "id": "d4703954-4ea4-492a-9fc3-6f7dea724813",
   "metadata": {},
   "outputs": [
    {
     "data": {
      "text/html": [
       "<div>\n",
       "<style scoped>\n",
       "    .dataframe tbody tr th:only-of-type {\n",
       "        vertical-align: middle;\n",
       "    }\n",
       "\n",
       "    .dataframe tbody tr th {\n",
       "        vertical-align: top;\n",
       "    }\n",
       "\n",
       "    .dataframe thead th {\n",
       "        text-align: right;\n",
       "    }\n",
       "</style>\n",
       "<table border=\"1\" class=\"dataframe\">\n",
       "  <thead>\n",
       "    <tr style=\"text-align: right;\">\n",
       "      <th></th>\n",
       "      <th>OrderID</th>\n",
       "      <th>CustomerID</th>\n",
       "      <th>Product</th>\n",
       "      <th>Quantity</th>\n",
       "      <th>Price</th>\n",
       "      <th>OrderDate</th>\n",
       "      <th>Region</th>\n",
       "      <th>TotalRevenue</th>\n",
       "    </tr>\n",
       "  </thead>\n",
       "  <tbody>\n",
       "    <tr>\n",
       "      <th>0</th>\n",
       "      <td>1</td>\n",
       "      <td>413</td>\n",
       "      <td>Keyboard</td>\n",
       "      <td>5</td>\n",
       "      <td>1815.96</td>\n",
       "      <td>2023-01-01</td>\n",
       "      <td>South</td>\n",
       "      <td>9079.80</td>\n",
       "    </tr>\n",
       "    <tr>\n",
       "      <th>1</th>\n",
       "      <td>2</td>\n",
       "      <td>500</td>\n",
       "      <td>Smartphone</td>\n",
       "      <td>6</td>\n",
       "      <td>1497.86</td>\n",
       "      <td>2023-01-02</td>\n",
       "      <td>South</td>\n",
       "      <td>8987.16</td>\n",
       "    </tr>\n",
       "    <tr>\n",
       "      <th>2</th>\n",
       "      <td>3</td>\n",
       "      <td>925</td>\n",
       "      <td>Smartphone</td>\n",
       "      <td>1</td>\n",
       "      <td>465.75</td>\n",
       "      <td>2023-01-03</td>\n",
       "      <td>North</td>\n",
       "      <td>465.75</td>\n",
       "    </tr>\n",
       "    <tr>\n",
       "      <th>3</th>\n",
       "      <td>4</td>\n",
       "      <td>55</td>\n",
       "      <td>Monitor</td>\n",
       "      <td>3</td>\n",
       "      <td>1896.86</td>\n",
       "      <td>2023-01-04</td>\n",
       "      <td>East</td>\n",
       "      <td>5690.58</td>\n",
       "    </tr>\n",
       "    <tr>\n",
       "      <th>4</th>\n",
       "      <td>5</td>\n",
       "      <td>502</td>\n",
       "      <td>Smartphone</td>\n",
       "      <td>5</td>\n",
       "      <td>1725.11</td>\n",
       "      <td>2023-01-05</td>\n",
       "      <td>South</td>\n",
       "      <td>8625.55</td>\n",
       "    </tr>\n",
       "  </tbody>\n",
       "</table>\n",
       "</div>"
      ],
      "text/plain": [
       "   OrderID  CustomerID     Product  Quantity    Price  OrderDate Region  \\\n",
       "0        1         413    Keyboard         5  1815.96 2023-01-01  South   \n",
       "1        2         500  Smartphone         6  1497.86 2023-01-02  South   \n",
       "2        3         925  Smartphone         1   465.75 2023-01-03  North   \n",
       "3        4          55     Monitor         3  1896.86 2023-01-04   East   \n",
       "4        5         502  Smartphone         5  1725.11 2023-01-05  South   \n",
       "\n",
       "   TotalRevenue  \n",
       "0       9079.80  \n",
       "1       8987.16  \n",
       "2        465.75  \n",
       "3       5690.58  \n",
       "4       8625.55  "
      ]
     },
     "execution_count": 8,
     "metadata": {},
     "output_type": "execute_result"
    }
   ],
   "source": [
    "sales_df.head()"
   ]
  },
  {
   "cell_type": "code",
   "execution_count": 9,
   "id": "7ca5db59-7219-4873-86cb-35e4fbc8d880",
   "metadata": {},
   "outputs": [
    {
     "data": {
      "text/html": [
       "<div>\n",
       "<style scoped>\n",
       "    .dataframe tbody tr th:only-of-type {\n",
       "        vertical-align: middle;\n",
       "    }\n",
       "\n",
       "    .dataframe tbody tr th {\n",
       "        vertical-align: top;\n",
       "    }\n",
       "\n",
       "    .dataframe thead th {\n",
       "        text-align: right;\n",
       "    }\n",
       "</style>\n",
       "<table border=\"1\" class=\"dataframe\">\n",
       "  <thead>\n",
       "    <tr style=\"text-align: right;\">\n",
       "      <th></th>\n",
       "      <th>CustomerID</th>\n",
       "      <th>CustomerName</th>\n",
       "      <th>Region</th>\n",
       "    </tr>\n",
       "  </thead>\n",
       "  <tbody>\n",
       "    <tr>\n",
       "      <th>0</th>\n",
       "      <td>1</td>\n",
       "      <td>Customer_1</td>\n",
       "      <td>West</td>\n",
       "    </tr>\n",
       "    <tr>\n",
       "      <th>1</th>\n",
       "      <td>2</td>\n",
       "      <td>Customer_2</td>\n",
       "      <td>South</td>\n",
       "    </tr>\n",
       "    <tr>\n",
       "      <th>2</th>\n",
       "      <td>3</td>\n",
       "      <td>Customer_3</td>\n",
       "      <td>West</td>\n",
       "    </tr>\n",
       "    <tr>\n",
       "      <th>3</th>\n",
       "      <td>4</td>\n",
       "      <td>Customer_4</td>\n",
       "      <td>East</td>\n",
       "    </tr>\n",
       "    <tr>\n",
       "      <th>4</th>\n",
       "      <td>5</td>\n",
       "      <td>Customer_5</td>\n",
       "      <td>West</td>\n",
       "    </tr>\n",
       "  </tbody>\n",
       "</table>\n",
       "</div>"
      ],
      "text/plain": [
       "   CustomerID CustomerName Region\n",
       "0           1   Customer_1   West\n",
       "1           2   Customer_2  South\n",
       "2           3   Customer_3   West\n",
       "3           4   Customer_4   East\n",
       "4           5   Customer_5   West"
      ]
     },
     "execution_count": 9,
     "metadata": {},
     "output_type": "execute_result"
    }
   ],
   "source": [
    "customers_df.head()"
   ]
  },
  {
   "cell_type": "code",
   "execution_count": 10,
   "id": "5f97e993-14d2-4c15-b897-9d6bcd581a28",
   "metadata": {},
   "outputs": [
    {
     "data": {
      "text/html": [
       "<div>\n",
       "<style scoped>\n",
       "    .dataframe tbody tr th:only-of-type {\n",
       "        vertical-align: middle;\n",
       "    }\n",
       "\n",
       "    .dataframe tbody tr th {\n",
       "        vertical-align: top;\n",
       "    }\n",
       "\n",
       "    .dataframe thead th {\n",
       "        text-align: right;\n",
       "    }\n",
       "</style>\n",
       "<table border=\"1\" class=\"dataframe\">\n",
       "  <thead>\n",
       "    <tr style=\"text-align: right;\">\n",
       "      <th></th>\n",
       "      <th>Product</th>\n",
       "      <th>Price</th>\n",
       "    </tr>\n",
       "  </thead>\n",
       "  <tbody>\n",
       "    <tr>\n",
       "      <th>0</th>\n",
       "      <td>Laptop</td>\n",
       "      <td>1500</td>\n",
       "    </tr>\n",
       "    <tr>\n",
       "      <th>1</th>\n",
       "      <td>Tablet</td>\n",
       "      <td>500</td>\n",
       "    </tr>\n",
       "    <tr>\n",
       "      <th>2</th>\n",
       "      <td>Smartphone</td>\n",
       "      <td>1200</td>\n",
       "    </tr>\n",
       "    <tr>\n",
       "      <th>3</th>\n",
       "      <td>Monitor</td>\n",
       "      <td>300</td>\n",
       "    </tr>\n",
       "    <tr>\n",
       "      <th>4</th>\n",
       "      <td>Keyboard</td>\n",
       "      <td>50</td>\n",
       "    </tr>\n",
       "  </tbody>\n",
       "</table>\n",
       "</div>"
      ],
      "text/plain": [
       "      Product  Price\n",
       "0      Laptop   1500\n",
       "1      Tablet    500\n",
       "2  Smartphone   1200\n",
       "3     Monitor    300\n",
       "4    Keyboard     50"
      ]
     },
     "execution_count": 10,
     "metadata": {},
     "output_type": "execute_result"
    }
   ],
   "source": [
    "products_df.head()"
   ]
  },
  {
   "cell_type": "code",
   "execution_count": 11,
   "id": "ac24df0c-c17a-4cd8-83b6-fd1f11a46a8a",
   "metadata": {},
   "outputs": [
    {
     "name": "stdout",
     "output_type": "stream",
     "text": [
      "<class 'pandas.core.frame.DataFrame'>\n",
      "RangeIndex: 10000 entries, 0 to 9999\n",
      "Data columns (total 8 columns):\n",
      " #   Column        Non-Null Count  Dtype         \n",
      "---  ------        --------------  -----         \n",
      " 0   OrderID       10000 non-null  int64         \n",
      " 1   CustomerID    10000 non-null  int64         \n",
      " 2   Product       10000 non-null  object        \n",
      " 3   Quantity      10000 non-null  int64         \n",
      " 4   Price         10000 non-null  float64       \n",
      " 5   OrderDate     10000 non-null  datetime64[ns]\n",
      " 6   Region        10000 non-null  object        \n",
      " 7   TotalRevenue  10000 non-null  float64       \n",
      "dtypes: datetime64[ns](1), float64(2), int64(3), object(2)\n",
      "memory usage: 625.1+ KB\n"
     ]
    },
    {
     "data": {
      "text/plain": [
       "(None, (10000, 8))"
      ]
     },
     "execution_count": 11,
     "metadata": {},
     "output_type": "execute_result"
    }
   ],
   "source": [
    "sales_df.info(),sales_df.shape"
   ]
  },
  {
   "cell_type": "code",
   "execution_count": 12,
   "id": "a11a6bab-d151-45aa-9a39-d2b14c1d56b0",
   "metadata": {},
   "outputs": [
    {
     "name": "stdout",
     "output_type": "stream",
     "text": [
      "<class 'pandas.core.frame.DataFrame'>\n",
      "RangeIndex: 999 entries, 0 to 998\n",
      "Data columns (total 3 columns):\n",
      " #   Column        Non-Null Count  Dtype \n",
      "---  ------        --------------  ----- \n",
      " 0   CustomerID    999 non-null    int64 \n",
      " 1   CustomerName  999 non-null    object\n",
      " 2   Region        999 non-null    object\n",
      "dtypes: int64(1), object(2)\n",
      "memory usage: 23.5+ KB\n"
     ]
    },
    {
     "data": {
      "text/plain": [
       "(None, (999, 3))"
      ]
     },
     "execution_count": 12,
     "metadata": {},
     "output_type": "execute_result"
    }
   ],
   "source": [
    "customers_df.info(),customers_df.shape"
   ]
  },
  {
   "cell_type": "code",
   "execution_count": 13,
   "id": "50e1e5c6-4e14-48a7-adc4-bb9476671dd7",
   "metadata": {},
   "outputs": [
    {
     "name": "stdout",
     "output_type": "stream",
     "text": [
      "<class 'pandas.core.frame.DataFrame'>\n",
      "RangeIndex: 5 entries, 0 to 4\n",
      "Data columns (total 2 columns):\n",
      " #   Column   Non-Null Count  Dtype \n",
      "---  ------   --------------  ----- \n",
      " 0   Product  5 non-null      object\n",
      " 1   Price    5 non-null      int64 \n",
      "dtypes: int64(1), object(1)\n",
      "memory usage: 208.0+ bytes\n"
     ]
    },
    {
     "data": {
      "text/plain": [
       "(None, (5, 2))"
      ]
     },
     "execution_count": 13,
     "metadata": {},
     "output_type": "execute_result"
    }
   ],
   "source": [
    "products_df.info(),products_df.shape"
   ]
  },
  {
   "cell_type": "code",
   "execution_count": 14,
   "id": "f34aa678-ad5d-4590-a308-8a1594f5d2ab",
   "metadata": {},
   "outputs": [
    {
     "data": {
      "text/html": [
       "<div>\n",
       "<style scoped>\n",
       "    .dataframe tbody tr th:only-of-type {\n",
       "        vertical-align: middle;\n",
       "    }\n",
       "\n",
       "    .dataframe tbody tr th {\n",
       "        vertical-align: top;\n",
       "    }\n",
       "\n",
       "    .dataframe thead th {\n",
       "        text-align: right;\n",
       "    }\n",
       "</style>\n",
       "<table border=\"1\" class=\"dataframe\">\n",
       "  <thead>\n",
       "    <tr style=\"text-align: right;\">\n",
       "      <th></th>\n",
       "      <th>OrderID</th>\n",
       "      <th>CustomerID</th>\n",
       "      <th>Product</th>\n",
       "      <th>Quantity</th>\n",
       "      <th>Price</th>\n",
       "      <th>OrderDate</th>\n",
       "      <th>Region_x</th>\n",
       "      <th>TotalRevenue</th>\n",
       "      <th>CustomerName</th>\n",
       "      <th>Region_y</th>\n",
       "    </tr>\n",
       "  </thead>\n",
       "  <tbody>\n",
       "    <tr>\n",
       "      <th>0</th>\n",
       "      <td>1</td>\n",
       "      <td>413</td>\n",
       "      <td>Keyboard</td>\n",
       "      <td>5</td>\n",
       "      <td>1815.96</td>\n",
       "      <td>2023-01-01</td>\n",
       "      <td>South</td>\n",
       "      <td>9079.80</td>\n",
       "      <td>Customer_413</td>\n",
       "      <td>South</td>\n",
       "    </tr>\n",
       "    <tr>\n",
       "      <th>1</th>\n",
       "      <td>2</td>\n",
       "      <td>500</td>\n",
       "      <td>Smartphone</td>\n",
       "      <td>6</td>\n",
       "      <td>1497.86</td>\n",
       "      <td>2023-01-02</td>\n",
       "      <td>South</td>\n",
       "      <td>8987.16</td>\n",
       "      <td>Customer_500</td>\n",
       "      <td>North</td>\n",
       "    </tr>\n",
       "    <tr>\n",
       "      <th>2</th>\n",
       "      <td>3</td>\n",
       "      <td>925</td>\n",
       "      <td>Smartphone</td>\n",
       "      <td>1</td>\n",
       "      <td>465.75</td>\n",
       "      <td>2023-01-03</td>\n",
       "      <td>North</td>\n",
       "      <td>465.75</td>\n",
       "      <td>Customer_925</td>\n",
       "      <td>South</td>\n",
       "    </tr>\n",
       "    <tr>\n",
       "      <th>3</th>\n",
       "      <td>4</td>\n",
       "      <td>55</td>\n",
       "      <td>Monitor</td>\n",
       "      <td>3</td>\n",
       "      <td>1896.86</td>\n",
       "      <td>2023-01-04</td>\n",
       "      <td>East</td>\n",
       "      <td>5690.58</td>\n",
       "      <td>Customer_55</td>\n",
       "      <td>South</td>\n",
       "    </tr>\n",
       "    <tr>\n",
       "      <th>4</th>\n",
       "      <td>5</td>\n",
       "      <td>502</td>\n",
       "      <td>Smartphone</td>\n",
       "      <td>5</td>\n",
       "      <td>1725.11</td>\n",
       "      <td>2023-01-05</td>\n",
       "      <td>South</td>\n",
       "      <td>8625.55</td>\n",
       "      <td>Customer_502</td>\n",
       "      <td>West</td>\n",
       "    </tr>\n",
       "    <tr>\n",
       "      <th>...</th>\n",
       "      <td>...</td>\n",
       "      <td>...</td>\n",
       "      <td>...</td>\n",
       "      <td>...</td>\n",
       "      <td>...</td>\n",
       "      <td>...</td>\n",
       "      <td>...</td>\n",
       "      <td>...</td>\n",
       "      <td>...</td>\n",
       "      <td>...</td>\n",
       "    </tr>\n",
       "    <tr>\n",
       "      <th>9995</th>\n",
       "      <td>9996</td>\n",
       "      <td>268</td>\n",
       "      <td>Keyboard</td>\n",
       "      <td>2</td>\n",
       "      <td>675.83</td>\n",
       "      <td>2050-05-14</td>\n",
       "      <td>South</td>\n",
       "      <td>1351.66</td>\n",
       "      <td>Customer_268</td>\n",
       "      <td>West</td>\n",
       "    </tr>\n",
       "    <tr>\n",
       "      <th>9996</th>\n",
       "      <td>9997</td>\n",
       "      <td>562</td>\n",
       "      <td>Smartphone</td>\n",
       "      <td>1</td>\n",
       "      <td>1596.17</td>\n",
       "      <td>2050-05-15</td>\n",
       "      <td>West</td>\n",
       "      <td>1596.17</td>\n",
       "      <td>Customer_562</td>\n",
       "      <td>North</td>\n",
       "    </tr>\n",
       "    <tr>\n",
       "      <th>9997</th>\n",
       "      <td>9998</td>\n",
       "      <td>282</td>\n",
       "      <td>Monitor</td>\n",
       "      <td>9</td>\n",
       "      <td>130.39</td>\n",
       "      <td>2050-05-16</td>\n",
       "      <td>East</td>\n",
       "      <td>1173.51</td>\n",
       "      <td>Customer_282</td>\n",
       "      <td>West</td>\n",
       "    </tr>\n",
       "    <tr>\n",
       "      <th>9998</th>\n",
       "      <td>9999</td>\n",
       "      <td>435</td>\n",
       "      <td>Laptop</td>\n",
       "      <td>6</td>\n",
       "      <td>831.26</td>\n",
       "      <td>2050-05-17</td>\n",
       "      <td>West</td>\n",
       "      <td>4987.56</td>\n",
       "      <td>Customer_435</td>\n",
       "      <td>South</td>\n",
       "    </tr>\n",
       "    <tr>\n",
       "      <th>9999</th>\n",
       "      <td>10000</td>\n",
       "      <td>787</td>\n",
       "      <td>Laptop</td>\n",
       "      <td>8</td>\n",
       "      <td>1025.48</td>\n",
       "      <td>2050-05-18</td>\n",
       "      <td>North</td>\n",
       "      <td>8203.84</td>\n",
       "      <td>Customer_787</td>\n",
       "      <td>South</td>\n",
       "    </tr>\n",
       "  </tbody>\n",
       "</table>\n",
       "<p>10000 rows × 10 columns</p>\n",
       "</div>"
      ],
      "text/plain": [
       "      OrderID  CustomerID     Product  Quantity    Price  OrderDate Region_x  \\\n",
       "0           1         413    Keyboard         5  1815.96 2023-01-01    South   \n",
       "1           2         500  Smartphone         6  1497.86 2023-01-02    South   \n",
       "2           3         925  Smartphone         1   465.75 2023-01-03    North   \n",
       "3           4          55     Monitor         3  1896.86 2023-01-04     East   \n",
       "4           5         502  Smartphone         5  1725.11 2023-01-05    South   \n",
       "...       ...         ...         ...       ...      ...        ...      ...   \n",
       "9995     9996         268    Keyboard         2   675.83 2050-05-14    South   \n",
       "9996     9997         562  Smartphone         1  1596.17 2050-05-15     West   \n",
       "9997     9998         282     Monitor         9   130.39 2050-05-16     East   \n",
       "9998     9999         435      Laptop         6   831.26 2050-05-17     West   \n",
       "9999    10000         787      Laptop         8  1025.48 2050-05-18    North   \n",
       "\n",
       "      TotalRevenue  CustomerName Region_y  \n",
       "0          9079.80  Customer_413    South  \n",
       "1          8987.16  Customer_500    North  \n",
       "2           465.75  Customer_925    South  \n",
       "3          5690.58   Customer_55    South  \n",
       "4          8625.55  Customer_502     West  \n",
       "...            ...           ...      ...  \n",
       "9995       1351.66  Customer_268     West  \n",
       "9996       1596.17  Customer_562    North  \n",
       "9997       1173.51  Customer_282     West  \n",
       "9998       4987.56  Customer_435    South  \n",
       "9999       8203.84  Customer_787    South  \n",
       "\n",
       "[10000 rows x 10 columns]"
      ]
     },
     "execution_count": 14,
     "metadata": {},
     "output_type": "execute_result"
    }
   ],
   "source": [
    "# Advance Excel operations\n",
    "merge_sales_on_customers = pd.merge(sales_df,customers_df,on='CustomerID', how = 'left')\n",
    "merge_sales_on_customers"
   ]
  },
  {
   "cell_type": "code",
   "execution_count": 15,
   "id": "648cb2d8-204f-4593-8350-2190e7fe61c2",
   "metadata": {},
   "outputs": [
    {
     "data": {
      "text/html": [
       "<div>\n",
       "<style scoped>\n",
       "    .dataframe tbody tr th:only-of-type {\n",
       "        vertical-align: middle;\n",
       "    }\n",
       "\n",
       "    .dataframe tbody tr th {\n",
       "        vertical-align: top;\n",
       "    }\n",
       "\n",
       "    .dataframe thead th {\n",
       "        text-align: right;\n",
       "    }\n",
       "</style>\n",
       "<table border=\"1\" class=\"dataframe\">\n",
       "  <thead>\n",
       "    <tr style=\"text-align: right;\">\n",
       "      <th></th>\n",
       "      <th>OrderID</th>\n",
       "      <th>CustomerID</th>\n",
       "      <th>Product</th>\n",
       "      <th>Quantity</th>\n",
       "      <th>Price_x</th>\n",
       "      <th>OrderDate</th>\n",
       "      <th>Region</th>\n",
       "      <th>TotalRevenue</th>\n",
       "      <th>Price_y</th>\n",
       "    </tr>\n",
       "  </thead>\n",
       "  <tbody>\n",
       "    <tr>\n",
       "      <th>0</th>\n",
       "      <td>1</td>\n",
       "      <td>413</td>\n",
       "      <td>Keyboard</td>\n",
       "      <td>5</td>\n",
       "      <td>1815.96</td>\n",
       "      <td>2023-01-01</td>\n",
       "      <td>South</td>\n",
       "      <td>9079.80</td>\n",
       "      <td>50</td>\n",
       "    </tr>\n",
       "    <tr>\n",
       "      <th>1</th>\n",
       "      <td>2</td>\n",
       "      <td>500</td>\n",
       "      <td>Smartphone</td>\n",
       "      <td>6</td>\n",
       "      <td>1497.86</td>\n",
       "      <td>2023-01-02</td>\n",
       "      <td>South</td>\n",
       "      <td>8987.16</td>\n",
       "      <td>1200</td>\n",
       "    </tr>\n",
       "    <tr>\n",
       "      <th>2</th>\n",
       "      <td>3</td>\n",
       "      <td>925</td>\n",
       "      <td>Smartphone</td>\n",
       "      <td>1</td>\n",
       "      <td>465.75</td>\n",
       "      <td>2023-01-03</td>\n",
       "      <td>North</td>\n",
       "      <td>465.75</td>\n",
       "      <td>1200</td>\n",
       "    </tr>\n",
       "    <tr>\n",
       "      <th>3</th>\n",
       "      <td>4</td>\n",
       "      <td>55</td>\n",
       "      <td>Monitor</td>\n",
       "      <td>3</td>\n",
       "      <td>1896.86</td>\n",
       "      <td>2023-01-04</td>\n",
       "      <td>East</td>\n",
       "      <td>5690.58</td>\n",
       "      <td>300</td>\n",
       "    </tr>\n",
       "    <tr>\n",
       "      <th>4</th>\n",
       "      <td>5</td>\n",
       "      <td>502</td>\n",
       "      <td>Smartphone</td>\n",
       "      <td>5</td>\n",
       "      <td>1725.11</td>\n",
       "      <td>2023-01-05</td>\n",
       "      <td>South</td>\n",
       "      <td>8625.55</td>\n",
       "      <td>1200</td>\n",
       "    </tr>\n",
       "    <tr>\n",
       "      <th>...</th>\n",
       "      <td>...</td>\n",
       "      <td>...</td>\n",
       "      <td>...</td>\n",
       "      <td>...</td>\n",
       "      <td>...</td>\n",
       "      <td>...</td>\n",
       "      <td>...</td>\n",
       "      <td>...</td>\n",
       "      <td>...</td>\n",
       "    </tr>\n",
       "    <tr>\n",
       "      <th>9995</th>\n",
       "      <td>9996</td>\n",
       "      <td>268</td>\n",
       "      <td>Keyboard</td>\n",
       "      <td>2</td>\n",
       "      <td>675.83</td>\n",
       "      <td>2050-05-14</td>\n",
       "      <td>South</td>\n",
       "      <td>1351.66</td>\n",
       "      <td>50</td>\n",
       "    </tr>\n",
       "    <tr>\n",
       "      <th>9996</th>\n",
       "      <td>9997</td>\n",
       "      <td>562</td>\n",
       "      <td>Smartphone</td>\n",
       "      <td>1</td>\n",
       "      <td>1596.17</td>\n",
       "      <td>2050-05-15</td>\n",
       "      <td>West</td>\n",
       "      <td>1596.17</td>\n",
       "      <td>1200</td>\n",
       "    </tr>\n",
       "    <tr>\n",
       "      <th>9997</th>\n",
       "      <td>9998</td>\n",
       "      <td>282</td>\n",
       "      <td>Monitor</td>\n",
       "      <td>9</td>\n",
       "      <td>130.39</td>\n",
       "      <td>2050-05-16</td>\n",
       "      <td>East</td>\n",
       "      <td>1173.51</td>\n",
       "      <td>300</td>\n",
       "    </tr>\n",
       "    <tr>\n",
       "      <th>9998</th>\n",
       "      <td>9999</td>\n",
       "      <td>435</td>\n",
       "      <td>Laptop</td>\n",
       "      <td>6</td>\n",
       "      <td>831.26</td>\n",
       "      <td>2050-05-17</td>\n",
       "      <td>West</td>\n",
       "      <td>4987.56</td>\n",
       "      <td>1500</td>\n",
       "    </tr>\n",
       "    <tr>\n",
       "      <th>9999</th>\n",
       "      <td>10000</td>\n",
       "      <td>787</td>\n",
       "      <td>Laptop</td>\n",
       "      <td>8</td>\n",
       "      <td>1025.48</td>\n",
       "      <td>2050-05-18</td>\n",
       "      <td>North</td>\n",
       "      <td>8203.84</td>\n",
       "      <td>1500</td>\n",
       "    </tr>\n",
       "  </tbody>\n",
       "</table>\n",
       "<p>10000 rows × 9 columns</p>\n",
       "</div>"
      ],
      "text/plain": [
       "      OrderID  CustomerID     Product  Quantity  Price_x  OrderDate Region  \\\n",
       "0           1         413    Keyboard         5  1815.96 2023-01-01  South   \n",
       "1           2         500  Smartphone         6  1497.86 2023-01-02  South   \n",
       "2           3         925  Smartphone         1   465.75 2023-01-03  North   \n",
       "3           4          55     Monitor         3  1896.86 2023-01-04   East   \n",
       "4           5         502  Smartphone         5  1725.11 2023-01-05  South   \n",
       "...       ...         ...         ...       ...      ...        ...    ...   \n",
       "9995     9996         268    Keyboard         2   675.83 2050-05-14  South   \n",
       "9996     9997         562  Smartphone         1  1596.17 2050-05-15   West   \n",
       "9997     9998         282     Monitor         9   130.39 2050-05-16   East   \n",
       "9998     9999         435      Laptop         6   831.26 2050-05-17   West   \n",
       "9999    10000         787      Laptop         8  1025.48 2050-05-18  North   \n",
       "\n",
       "      TotalRevenue  Price_y  \n",
       "0          9079.80       50  \n",
       "1          8987.16     1200  \n",
       "2           465.75     1200  \n",
       "3          5690.58      300  \n",
       "4          8625.55     1200  \n",
       "...            ...      ...  \n",
       "9995       1351.66       50  \n",
       "9996       1596.17     1200  \n",
       "9997       1173.51      300  \n",
       "9998       4987.56     1500  \n",
       "9999       8203.84     1500  \n",
       "\n",
       "[10000 rows x 9 columns]"
      ]
     },
     "execution_count": 15,
     "metadata": {},
     "output_type": "execute_result"
    }
   ],
   "source": [
    "merge_sales_on_product = pd.merge(sales_df, products_df[['Product','Price']], on = 'Product', how = 'left')\n",
    "merge_sales_on_product"
   ]
  },
  {
   "cell_type": "code",
   "execution_count": 16,
   "id": "311abcb9-f8dc-46bc-88b0-b039ea91deab",
   "metadata": {},
   "outputs": [],
   "source": [
    "total_sales = sum(merge_sales_on_product['Price_x']*merge_sales_on_product['Quantity'])"
   ]
  },
  {
   "cell_type": "code",
   "execution_count": 17,
   "id": "0588c800-4fb6-4bec-a05a-10b4f9327831",
   "metadata": {},
   "outputs": [
    {
     "data": {
      "text/html": [
       "<div>\n",
       "<style scoped>\n",
       "    .dataframe tbody tr th:only-of-type {\n",
       "        vertical-align: middle;\n",
       "    }\n",
       "\n",
       "    .dataframe tbody tr th {\n",
       "        vertical-align: top;\n",
       "    }\n",
       "\n",
       "    .dataframe thead th {\n",
       "        text-align: right;\n",
       "    }\n",
       "</style>\n",
       "<table border=\"1\" class=\"dataframe\">\n",
       "  <thead>\n",
       "    <tr style=\"text-align: right;\">\n",
       "      <th>Region</th>\n",
       "      <th>East</th>\n",
       "      <th>North</th>\n",
       "      <th>South</th>\n",
       "      <th>West</th>\n",
       "    </tr>\n",
       "    <tr>\n",
       "      <th>Product</th>\n",
       "      <th></th>\n",
       "      <th></th>\n",
       "      <th></th>\n",
       "      <th></th>\n",
       "    </tr>\n",
       "  </thead>\n",
       "  <tbody>\n",
       "    <tr>\n",
       "      <th>Keyboard</th>\n",
       "      <td>2496402.98</td>\n",
       "      <td>2621697.05</td>\n",
       "      <td>2695977.84</td>\n",
       "      <td>2786048.14</td>\n",
       "    </tr>\n",
       "    <tr>\n",
       "      <th>Laptop</th>\n",
       "      <td>2325639.45</td>\n",
       "      <td>2652925.56</td>\n",
       "      <td>2626530.41</td>\n",
       "      <td>2570569.77</td>\n",
       "    </tr>\n",
       "    <tr>\n",
       "      <th>Monitor</th>\n",
       "      <td>2650384.26</td>\n",
       "      <td>2241453.22</td>\n",
       "      <td>2652228.88</td>\n",
       "      <td>2888205.42</td>\n",
       "    </tr>\n",
       "    <tr>\n",
       "      <th>Smartphone</th>\n",
       "      <td>2561689.35</td>\n",
       "      <td>2472203.75</td>\n",
       "      <td>2726864.73</td>\n",
       "      <td>2673185.67</td>\n",
       "    </tr>\n",
       "    <tr>\n",
       "      <th>Tablet</th>\n",
       "      <td>2503484.71</td>\n",
       "      <td>3010931.54</td>\n",
       "      <td>2769039.61</td>\n",
       "      <td>2591883.76</td>\n",
       "    </tr>\n",
       "  </tbody>\n",
       "</table>\n",
       "</div>"
      ],
      "text/plain": [
       "Region            East       North       South        West\n",
       "Product                                                   \n",
       "Keyboard    2496402.98  2621697.05  2695977.84  2786048.14\n",
       "Laptop      2325639.45  2652925.56  2626530.41  2570569.77\n",
       "Monitor     2650384.26  2241453.22  2652228.88  2888205.42\n",
       "Smartphone  2561689.35  2472203.75  2726864.73  2673185.67\n",
       "Tablet      2503484.71  3010931.54  2769039.61  2591883.76"
      ]
     },
     "execution_count": 17,
     "metadata": {},
     "output_type": "execute_result"
    }
   ],
   "source": [
    "# Pivot Plots\n",
    "pd.pivot_table(merge_sales_on_product , values = 'TotalRevenue', index = 'Product', columns = 'Region' , aggfunc= 'sum')\n"
   ]
  },
  {
   "cell_type": "code",
   "execution_count": 18,
   "id": "bf9828e8-7875-4296-b36d-60efae4e7c22",
   "metadata": {},
   "outputs": [
    {
     "data": {
      "text/plain": [
       "<Axes: xlabel='Product', ylabel='Price_x'>"
      ]
     },
     "execution_count": 18,
     "metadata": {},
     "output_type": "execute_result"
    },
    {
     "data": {
      "image/png": "[encoded data removed]",
      "text/plain": [
       "<Figure size 640x480 with 1 Axes>"
      ]
     },
     "metadata": {},
     "output_type": "display_data"
    }
   ],
   "source": [
    "sns.barplot(x = 'Product', y = 'Price_x', data = merge_sales_on_product)"
   ]
  },
  {
   "cell_type": "code",
   "execution_count": 20,
   "id": "28b574db-fff2-4c80-b09c-c645baf742c2",
   "metadata": {},
   "outputs": [
    {
     "data": {
      "text/plain": [
       "<Axes: xlabel='Region', ylabel='TotalRevenue'>"
      ]
     },
     "execution_count": 20,
     "metadata": {},
     "output_type": "execute_result"
    },
    {
     "data": {
      "image/png": "[encoded data removed]",
      "text/plain": [
       "<Figure size 640x480 with 1 Axes>"
      ]
     },
     "metadata": {},
     "output_type": "display_data"
    }
   ],
   "source": [
    "sns.barplot(x='Region', y='TotalRevenue', data=merge_sales_on_product, estimator=sum)"
   ]
  },
  {
   "cell_type": "code",
   "execution_count": 21,
   "id": "617c0f01-e2cf-47d8-9ddc-49b9f56a313f",
   "metadata": {},
   "outputs": [
    {
     "data": {
      "text/plain": [
       "<Axes: xlabel='Product', ylabel='Quantity'>"
      ]
     },
     "execution_count": 21,
     "metadata": {},
     "output_type": "execute_result"
    },
    {
     "data": {
      "image/png": "[encoded data removed]",
      "text/plain": [
       "<Figure size 640x480 with 1 Axes>"
      ]
     },
     "metadata": {},
     "output_type": "display_data"
    }
   ],
   "source": [
    "sns.boxplot(x='Product', y='Quantity', data=merge_sales_on_product)"
   ]
  },
  {
   "cell_type": "code",
   "execution_count": null,
   "id": "c2ce24a4-39eb-479c-9dff-6bef9923ba12",
   "metadata": {},
   "outputs": [],
   "source": [
    "plt.scatter()"
   ]
  }
 ],
 "metadata": {
  "kernelspec": {
   "display_name": "Python 3 (ipykernel)",
   "language": "python",
   "name": "python3"
  },
  "language_info": {
   "codemirror_mode": {
    "name": "ipython",
    "version": 3
   },
   "file_extension": ".py",
   "mimetype": "text/x-python",
   "name": "python",
   "nbconvert_exporter": "python",
   "pygments_lexer": "ipython3",
   "version": "3.10.11"
  }
 },
 "nbformat": 4,
 "nbformat_minor": 5
}
